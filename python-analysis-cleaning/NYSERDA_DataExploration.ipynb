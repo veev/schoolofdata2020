{
 "cells": [
  {
   "cell_type": "code",
   "execution_count": 1,
   "metadata": {},
   "outputs": [],
   "source": [
    "import geopandas as gp\n",
    "import pandas as pd\n",
    "# this helps us preview more rows and columns in our dataset\n",
    "pd.set_option('display.max_rows', 500)\n",
    "pd.set_option('display.max_columns', 500)\n",
    "pd.set_option('display.width', 1000)\n",
    "# this prevents pandas from displaying floats with scientific notation\n",
    "pd.set_option('display.float_format', lambda x: '%.5f' % x)\n",
    "\n",
    "import matplotlib.pyplot as plt"
   ]
  },
  {
   "cell_type": "code",
   "execution_count": 2,
   "metadata": {},
   "outputs": [
    {
     "name": "stderr",
     "output_type": "stream",
     "text": [
      "/Users/genevieve/anaconda3/envs/opendataweek/lib/python3.7/site-packages/IPython/core/interactiveshell.py:3058: DtypeWarning: Columns (1) have mixed types. Specify dtype option on import or set low_memory=False.\n",
      "  interactivity=interactivity, compiler=compiler, result=result)\n"
     ]
    }
   ],
   "source": [
    "# read in CSV file of benchmarking data\n",
    "data = pd.read_csv(\"data/Solar_Electric_Programs_Reported_by_NYSERDA__Beginning_2000.csv\")"
   ]
  },
  {
   "cell_type": "code",
   "execution_count": 14,
   "metadata": {},
   "outputs": [
    {
     "data": {
      "text/html": [
       "<div>\n",
       "<style scoped>\n",
       "    .dataframe tbody tr th:only-of-type {\n",
       "        vertical-align: middle;\n",
       "    }\n",
       "\n",
       "    .dataframe tbody tr th {\n",
       "        vertical-align: top;\n",
       "    }\n",
       "\n",
       "    .dataframe thead th {\n",
       "        text-align: right;\n",
       "    }\n",
       "</style>\n",
       "<table border=\"1\" class=\"dataframe\">\n",
       "  <thead>\n",
       "    <tr style=\"text-align: right;\">\n",
       "      <th></th>\n",
       "      <th>Reporting Period</th>\n",
       "      <th>Project Number</th>\n",
       "      <th>City</th>\n",
       "      <th>County</th>\n",
       "      <th>State</th>\n",
       "      <th>Zip Code</th>\n",
       "      <th>Sector</th>\n",
       "      <th>Program Type</th>\n",
       "      <th>Solicitation</th>\n",
       "      <th>Electric Utility</th>\n",
       "      <th>Purchase Type</th>\n",
       "      <th>Date Application Received</th>\n",
       "      <th>Date Completed</th>\n",
       "      <th>Project Status</th>\n",
       "      <th>Contractor</th>\n",
       "      <th>Primary Inverter Manufacturer</th>\n",
       "      <th>Primary Inverter Model Number</th>\n",
       "      <th>Total Inverter Quantity</th>\n",
       "      <th>Primary PV Module Manufacturer</th>\n",
       "      <th>PV Module Model Number</th>\n",
       "      <th>Total PV Module Quantity</th>\n",
       "      <th>Project Cost</th>\n",
       "      <th>$Incentive</th>\n",
       "      <th>Total Nameplate kW DC</th>\n",
       "      <th>Expected KWh Annual Production</th>\n",
       "      <th>Remote Net Metering</th>\n",
       "      <th>Affordable Solar</th>\n",
       "      <th>Community Distributed Generation</th>\n",
       "      <th>Green Jobs Green New York Participant</th>\n",
       "      <th>Location 1</th>\n",
       "    </tr>\n",
       "  </thead>\n",
       "  <tbody>\n",
       "    <tr>\n",
       "      <th>0</th>\n",
       "      <td>12/31/2019</td>\n",
       "      <td>4362-46733</td>\n",
       "      <td>Scotia</td>\n",
       "      <td>Schenectady</td>\n",
       "      <td>NY</td>\n",
       "      <td>12302</td>\n",
       "      <td>Residential</td>\n",
       "      <td>Residential/Small Commercial</td>\n",
       "      <td>PON 2112</td>\n",
       "      <td>National Grid</td>\n",
       "      <td>Purchase</td>\n",
       "      <td>09/03/2014</td>\n",
       "      <td>12/17/2014</td>\n",
       "      <td>Complete</td>\n",
       "      <td>Monolith Solar Associates, LLC</td>\n",
       "      <td>SMA America</td>\n",
       "      <td>SB5000US (240V)</td>\n",
       "      <td>1.00000</td>\n",
       "      <td>Trina Solar</td>\n",
       "      <td>TSM-255PA05</td>\n",
       "      <td>20.00000</td>\n",
       "      <td>22950.00000</td>\n",
       "      <td>5100.00000</td>\n",
       "      <td>5.10000</td>\n",
       "      <td>5987.00000</td>\n",
       "      <td>No</td>\n",
       "      <td>No</td>\n",
       "      <td>No</td>\n",
       "      <td>NaN</td>\n",
       "      <td>Scotia, NY 12302\\n(42.866806, -73.967054)</td>\n",
       "    </tr>\n",
       "    <tr>\n",
       "      <th>1</th>\n",
       "      <td>12/31/2019</td>\n",
       "      <td>4629-81627</td>\n",
       "      <td>Ridge</td>\n",
       "      <td>Suffolk</td>\n",
       "      <td>NY</td>\n",
       "      <td>11961</td>\n",
       "      <td>Residential</td>\n",
       "      <td>Residential/Small Commercial</td>\n",
       "      <td>PON 2112LI</td>\n",
       "      <td>PSEG Long Island</td>\n",
       "      <td>Lease</td>\n",
       "      <td>12/15/2015</td>\n",
       "      <td>07/26/2016</td>\n",
       "      <td>Complete</td>\n",
       "      <td>Harvest Power</td>\n",
       "      <td>SMA America</td>\n",
       "      <td>SB7000TL-US-22-240V (240V)</td>\n",
       "      <td>1.00000</td>\n",
       "      <td>SunPower</td>\n",
       "      <td>SPR-E20-327</td>\n",
       "      <td>24.00000</td>\n",
       "      <td>38552.20000</td>\n",
       "      <td>1570.00000</td>\n",
       "      <td>7.85000</td>\n",
       "      <td>9212.00000</td>\n",
       "      <td>No</td>\n",
       "      <td>No</td>\n",
       "      <td>No</td>\n",
       "      <td>NaN</td>\n",
       "      <td>Ridge, NY 11961\\n(40.893078, -72.883233)</td>\n",
       "    </tr>\n",
       "    <tr>\n",
       "      <th>2</th>\n",
       "      <td>12/31/2019</td>\n",
       "      <td>4704-75046</td>\n",
       "      <td>Stuyvesant</td>\n",
       "      <td>Columbia</td>\n",
       "      <td>NY</td>\n",
       "      <td>12173</td>\n",
       "      <td>Residential</td>\n",
       "      <td>Residential/Small Commercial</td>\n",
       "      <td>PON 2112</td>\n",
       "      <td>National Grid</td>\n",
       "      <td>Lease</td>\n",
       "      <td>10/01/2015</td>\n",
       "      <td>11/13/2015</td>\n",
       "      <td>Complete</td>\n",
       "      <td>Tesla Energy Operations Inc.</td>\n",
       "      <td>ABB</td>\n",
       "      <td>PVI-4.2-OUTD-S-US-Z-A (240V)</td>\n",
       "      <td>1.00000</td>\n",
       "      <td>Hanwha Q-Cells</td>\n",
       "      <td>Q.PRO-G4/SC 265</td>\n",
       "      <td>20.00000</td>\n",
       "      <td>29786.00000</td>\n",
       "      <td>3180.00000</td>\n",
       "      <td>5.30000</td>\n",
       "      <td>6221.00000</td>\n",
       "      <td>No</td>\n",
       "      <td>No</td>\n",
       "      <td>No</td>\n",
       "      <td>NaN</td>\n",
       "      <td>Stuyvesant, NY 12173\\n(42.376918, -73.758588)</td>\n",
       "    </tr>\n",
       "    <tr>\n",
       "      <th>3</th>\n",
       "      <td>12/31/2019</td>\n",
       "      <td>4704-78623</td>\n",
       "      <td>Lynbrook</td>\n",
       "      <td>Nassau</td>\n",
       "      <td>NY</td>\n",
       "      <td>11563</td>\n",
       "      <td>Residential</td>\n",
       "      <td>Residential/Small Commercial</td>\n",
       "      <td>PON 2112LI</td>\n",
       "      <td>PSEG Long Island</td>\n",
       "      <td>Lease</td>\n",
       "      <td>10/22/2015</td>\n",
       "      <td>10/16/2016</td>\n",
       "      <td>Complete</td>\n",
       "      <td>Tesla Energy Operations Inc.</td>\n",
       "      <td>ABB</td>\n",
       "      <td>PVI-5000-OUTD-US-Z-A (240V)</td>\n",
       "      <td>1.00000</td>\n",
       "      <td>Trina Solar</td>\n",
       "      <td>TSM-260PD05.18</td>\n",
       "      <td>22.00000</td>\n",
       "      <td>32032.00000</td>\n",
       "      <td>1144.00000</td>\n",
       "      <td>5.72000</td>\n",
       "      <td>6714.00000</td>\n",
       "      <td>No</td>\n",
       "      <td>No</td>\n",
       "      <td>No</td>\n",
       "      <td>NaN</td>\n",
       "      <td>Lynbrook, NY 11563\\n(40.657513, -73.673957)</td>\n",
       "    </tr>\n",
       "    <tr>\n",
       "      <th>4</th>\n",
       "      <td>12/31/2019</td>\n",
       "      <td>4704-90236</td>\n",
       "      <td>Yonkers</td>\n",
       "      <td>Westchester</td>\n",
       "      <td>NY</td>\n",
       "      <td>10703</td>\n",
       "      <td>Residential</td>\n",
       "      <td>Residential/Small Commercial</td>\n",
       "      <td>PON 2112</td>\n",
       "      <td>Consolidated Edison</td>\n",
       "      <td>Lease</td>\n",
       "      <td>02/10/2016</td>\n",
       "      <td>08/01/2016</td>\n",
       "      <td>Complete</td>\n",
       "      <td>Tesla Energy Operations Inc.</td>\n",
       "      <td>ABB</td>\n",
       "      <td>PVI-3.0-OUTD-S-US-Z-A (240V)</td>\n",
       "      <td>1.00000</td>\n",
       "      <td>Trina Solar</td>\n",
       "      <td>TSM-260PD05.18</td>\n",
       "      <td>17.00000</td>\n",
       "      <td>24752.00000</td>\n",
       "      <td>2652.00000</td>\n",
       "      <td>4.42000</td>\n",
       "      <td>5188.00000</td>\n",
       "      <td>No</td>\n",
       "      <td>No</td>\n",
       "      <td>No</td>\n",
       "      <td>NaN</td>\n",
       "      <td>Yonkers, NY 10703\\n(40.957068, -73.880829)</td>\n",
       "    </tr>\n",
       "  </tbody>\n",
       "</table>\n",
       "</div>"
      ],
      "text/plain": [
       "  Reporting Period Project Number        City       County State  Zip Code       Sector                  Program Type Solicitation     Electric Utility Purchase Type Date Application Received Date Completed Project Status                      Contractor Primary Inverter Manufacturer Primary Inverter Model Number  Total Inverter Quantity Primary PV Module Manufacturer PV Module Model Number  Total PV Module Quantity  Project Cost  $Incentive  Total Nameplate kW DC  Expected KWh Annual Production Remote Net Metering Affordable Solar Community Distributed Generation Green Jobs Green New York Participant                                     Location 1\n",
       "0       12/31/2019     4362-46733      Scotia  Schenectady    NY     12302  Residential  Residential/Small Commercial     PON 2112        National Grid      Purchase                09/03/2014     12/17/2014       Complete  Monolith Solar Associates, LLC                   SMA America               SB5000US (240V)                  1.00000                    Trina Solar            TSM-255PA05                  20.00000   22950.00000  5100.00000                5.10000                      5987.00000                  No               No                               No                                   NaN      Scotia, NY 12302\\n(42.866806, -73.967054)\n",
       "1       12/31/2019     4629-81627       Ridge      Suffolk    NY     11961  Residential  Residential/Small Commercial   PON 2112LI     PSEG Long Island         Lease                12/15/2015     07/26/2016       Complete                   Harvest Power                   SMA America    SB7000TL-US-22-240V (240V)                  1.00000                       SunPower            SPR-E20-327                  24.00000   38552.20000  1570.00000                7.85000                      9212.00000                  No               No                               No                                   NaN       Ridge, NY 11961\\n(40.893078, -72.883233)\n",
       "2       12/31/2019     4704-75046  Stuyvesant     Columbia    NY     12173  Residential  Residential/Small Commercial     PON 2112        National Grid         Lease                10/01/2015     11/13/2015       Complete    Tesla Energy Operations Inc.                           ABB  PVI-4.2-OUTD-S-US-Z-A (240V)                  1.00000                 Hanwha Q-Cells        Q.PRO-G4/SC 265                  20.00000   29786.00000  3180.00000                5.30000                      6221.00000                  No               No                               No                                   NaN  Stuyvesant, NY 12173\\n(42.376918, -73.758588)\n",
       "3       12/31/2019     4704-78623    Lynbrook       Nassau    NY     11563  Residential  Residential/Small Commercial   PON 2112LI     PSEG Long Island         Lease                10/22/2015     10/16/2016       Complete    Tesla Energy Operations Inc.                           ABB   PVI-5000-OUTD-US-Z-A (240V)                  1.00000                    Trina Solar         TSM-260PD05.18                  22.00000   32032.00000  1144.00000                5.72000                      6714.00000                  No               No                               No                                   NaN    Lynbrook, NY 11563\\n(40.657513, -73.673957)\n",
       "4       12/31/2019     4704-90236     Yonkers  Westchester    NY     10703  Residential  Residential/Small Commercial     PON 2112  Consolidated Edison         Lease                02/10/2016     08/01/2016       Complete    Tesla Energy Operations Inc.                           ABB  PVI-3.0-OUTD-S-US-Z-A (240V)                  1.00000                    Trina Solar         TSM-260PD05.18                  17.00000   24752.00000  2652.00000                4.42000                      5188.00000                  No               No                               No                                   NaN     Yonkers, NY 10703\\n(40.957068, -73.880829)"
      ]
     },
     "execution_count": 14,
     "metadata": {},
     "output_type": "execute_result"
    }
   ],
   "source": [
    "data.head()"
   ]
  },
  {
   "cell_type": "code",
   "execution_count": 11,
   "metadata": {},
   "outputs": [],
   "source": [
    "# The counties we care about are New York (Manhattan), Bronx, Kings (Brooklyn), Queens, Richmond (Staten Island)\n",
    "# nyc_data = data[data[\"County\"] == 'Richmond' or data[\"County\"] == 'New York' or data[\"County\"] == 'Bronx'] or data[\"County\"] == 'Queens' or data[\"County\"] == 'Kings']\n",
    "nyc_data = data[data.County.astype(str).isin(['New York','Bronx','Kings', 'Queens', 'Richmond'])]"
   ]
  },
  {
   "cell_type": "code",
   "execution_count": 15,
   "metadata": {},
   "outputs": [
    {
     "data": {
      "text/plain": [
       "Queens      9413\n",
       "Richmond    7558\n",
       "Kings       4357\n",
       "Bronx       2117\n",
       "New York     840\n",
       "Name: County, dtype: int64"
      ]
     },
     "execution_count": 15,
     "metadata": {},
     "output_type": "execute_result"
    }
   ],
   "source": [
    "nyc_data.County.value_counts()"
   ]
  },
  {
   "cell_type": "code",
   "execution_count": 17,
   "metadata": {},
   "outputs": [
    {
     "data": {
      "text/plain": [
       "Residential        22822\n",
       "Non-Residential     1463\n",
       "Name: Sector, dtype: int64"
      ]
     },
     "execution_count": 17,
     "metadata": {},
     "output_type": "execute_result"
    }
   ],
   "source": [
    "nyc_data.Sector.value_counts()"
   ]
  },
  {
   "cell_type": "code",
   "execution_count": 20,
   "metadata": {},
   "outputs": [
    {
     "data": {
      "text/plain": [
       "Complete    22191\n",
       "Pipeline     2094\n",
       "Name: Project Status, dtype: int64"
      ]
     },
     "execution_count": 20,
     "metadata": {},
     "output_type": "execute_result"
    }
   ],
   "source": [
    "nyc_data[\"Project Status\"].value_counts()"
   ]
  },
  {
   "cell_type": "code",
   "execution_count": 23,
   "metadata": {},
   "outputs": [
    {
     "data": {
      "text/plain": [
       "count      24285.00000\n",
       "mean       14288.65365\n",
       "std       125717.67389\n",
       "min          370.00000\n",
       "25%         4930.00000\n",
       "50%         6691.00000\n",
       "75%         9297.00000\n",
       "max     11489170.00000\n",
       "Name: Expected KWh Annual Production, dtype: float64"
      ]
     },
     "execution_count": 23,
     "metadata": {},
     "output_type": "execute_result"
    }
   ],
   "source": [
    "nyc_data[\"Expected KWh Annual Production\"].describe()"
   ]
  },
  {
   "cell_type": "code",
   "execution_count": 24,
   "metadata": {},
   "outputs": [
    {
     "data": {
      "text/html": [
       "<div>\n",
       "<style scoped>\n",
       "    .dataframe tbody tr th:only-of-type {\n",
       "        vertical-align: middle;\n",
       "    }\n",
       "\n",
       "    .dataframe tbody tr th {\n",
       "        vertical-align: top;\n",
       "    }\n",
       "\n",
       "    .dataframe thead th {\n",
       "        text-align: right;\n",
       "    }\n",
       "</style>\n",
       "<table border=\"1\" class=\"dataframe\">\n",
       "  <thead>\n",
       "    <tr style=\"text-align: right;\">\n",
       "      <th></th>\n",
       "      <th>Reporting Period</th>\n",
       "      <th>Project Number</th>\n",
       "      <th>City</th>\n",
       "      <th>County</th>\n",
       "      <th>State</th>\n",
       "      <th>Zip Code</th>\n",
       "      <th>Sector</th>\n",
       "      <th>Program Type</th>\n",
       "      <th>Solicitation</th>\n",
       "      <th>Electric Utility</th>\n",
       "      <th>Purchase Type</th>\n",
       "      <th>Date Application Received</th>\n",
       "      <th>Date Completed</th>\n",
       "      <th>Project Status</th>\n",
       "      <th>Contractor</th>\n",
       "      <th>Primary Inverter Manufacturer</th>\n",
       "      <th>Primary Inverter Model Number</th>\n",
       "      <th>Total Inverter Quantity</th>\n",
       "      <th>Primary PV Module Manufacturer</th>\n",
       "      <th>PV Module Model Number</th>\n",
       "      <th>Total PV Module Quantity</th>\n",
       "      <th>Project Cost</th>\n",
       "      <th>$Incentive</th>\n",
       "      <th>Total Nameplate kW DC</th>\n",
       "      <th>Expected KWh Annual Production</th>\n",
       "      <th>Remote Net Metering</th>\n",
       "      <th>Affordable Solar</th>\n",
       "      <th>Community Distributed Generation</th>\n",
       "      <th>Green Jobs Green New York Participant</th>\n",
       "      <th>Location 1</th>\n",
       "    </tr>\n",
       "  </thead>\n",
       "  <tbody>\n",
       "    <tr>\n",
       "      <th>10</th>\n",
       "      <td>12/31/2019</td>\n",
       "      <td>81880</td>\n",
       "      <td>Bronx</td>\n",
       "      <td>Bronx</td>\n",
       "      <td>NY</td>\n",
       "      <td>10461</td>\n",
       "      <td>Residential</td>\n",
       "      <td>Residential/Small Commercial</td>\n",
       "      <td>PON 2112</td>\n",
       "      <td>Consolidated Edison</td>\n",
       "      <td>Lease</td>\n",
       "      <td>04/13/2017</td>\n",
       "      <td>02/22/2018</td>\n",
       "      <td>Complete</td>\n",
       "      <td>SunRun Inc.</td>\n",
       "      <td>ABB</td>\n",
       "      <td>PVI-3.6-OUTD-S-US-A (240V)</td>\n",
       "      <td>1.00000</td>\n",
       "      <td>LG Electronics</td>\n",
       "      <td>LG310N1C-G4</td>\n",
       "      <td>15.00000</td>\n",
       "      <td>15911.00000</td>\n",
       "      <td>1860.00000</td>\n",
       "      <td>4.65000</td>\n",
       "      <td>5458.00000</td>\n",
       "      <td>NaN</td>\n",
       "      <td>No</td>\n",
       "      <td>No</td>\n",
       "      <td>NaN</td>\n",
       "      <td>Bronx, NY 10461\\n(40.846823, -73.840311)</td>\n",
       "    </tr>\n",
       "    <tr>\n",
       "      <th>11</th>\n",
       "      <td>12/31/2019</td>\n",
       "      <td>91240</td>\n",
       "      <td>Brooklyn</td>\n",
       "      <td>Kings</td>\n",
       "      <td>NY</td>\n",
       "      <td>11203</td>\n",
       "      <td>Residential</td>\n",
       "      <td>Residential/Small Commercial</td>\n",
       "      <td>PON 2112</td>\n",
       "      <td>Consolidated Edison</td>\n",
       "      <td>Lease</td>\n",
       "      <td>06/15/2017</td>\n",
       "      <td>09/28/2017</td>\n",
       "      <td>Complete</td>\n",
       "      <td>SunPower Capital LLC</td>\n",
       "      <td>SunPower</td>\n",
       "      <td>SPR-X21-345-C-AC</td>\n",
       "      <td>16.00000</td>\n",
       "      <td>SunPower</td>\n",
       "      <td>SPR-X21-345-C-AC</td>\n",
       "      <td>16.00000</td>\n",
       "      <td>22687.20000</td>\n",
       "      <td>1656.00000</td>\n",
       "      <td>5.52000</td>\n",
       "      <td>6480.00000</td>\n",
       "      <td>NaN</td>\n",
       "      <td>No</td>\n",
       "      <td>No</td>\n",
       "      <td>NaN</td>\n",
       "      <td>Brooklyn, NY 11203\\n(40.649707, -73.933487)</td>\n",
       "    </tr>\n",
       "    <tr>\n",
       "      <th>15</th>\n",
       "      <td>12/31/2019</td>\n",
       "      <td>179557</td>\n",
       "      <td>Bronx</td>\n",
       "      <td>Bronx</td>\n",
       "      <td>NY</td>\n",
       "      <td>10466</td>\n",
       "      <td>Residential</td>\n",
       "      <td>Residential/Small Commercial</td>\n",
       "      <td>PON 2112</td>\n",
       "      <td>Consolidated Edison</td>\n",
       "      <td>Lease</td>\n",
       "      <td>03/21/2019</td>\n",
       "      <td>NaN</td>\n",
       "      <td>Pipeline</td>\n",
       "      <td>NaN</td>\n",
       "      <td>SunPower</td>\n",
       "      <td>SPR-E20-327-D-AC [240V]</td>\n",
       "      <td>26.00000</td>\n",
       "      <td>Sunpower</td>\n",
       "      <td>SPR-E20-327-D-AC</td>\n",
       "      <td>26.00000</td>\n",
       "      <td>44981.41000</td>\n",
       "      <td>2551.00000</td>\n",
       "      <td>8.50000</td>\n",
       "      <td>9980.00000</td>\n",
       "      <td>NaN</td>\n",
       "      <td>No</td>\n",
       "      <td>No</td>\n",
       "      <td>NaN</td>\n",
       "      <td>Bronx, NY 10466\\n(40.891057, -73.846822)</td>\n",
       "    </tr>\n",
       "    <tr>\n",
       "      <th>16</th>\n",
       "      <td>12/31/2019</td>\n",
       "      <td>207583</td>\n",
       "      <td>Queens</td>\n",
       "      <td>Queens</td>\n",
       "      <td>NY</td>\n",
       "      <td>11367</td>\n",
       "      <td>Residential</td>\n",
       "      <td>Residential/Small Commercial</td>\n",
       "      <td>PON 2112</td>\n",
       "      <td>Consolidated Edison</td>\n",
       "      <td>Purchase</td>\n",
       "      <td>08/14/2019</td>\n",
       "      <td>NaN</td>\n",
       "      <td>Pipeline</td>\n",
       "      <td>NaN</td>\n",
       "      <td>SunPower</td>\n",
       "      <td>SPR-X22-370-E-AC [240V]</td>\n",
       "      <td>19.00000</td>\n",
       "      <td>Sunpower</td>\n",
       "      <td>SPR-X22-370-E-AC</td>\n",
       "      <td>19.00000</td>\n",
       "      <td>31474.00000</td>\n",
       "      <td>2109.00000</td>\n",
       "      <td>7.03000</td>\n",
       "      <td>8252.00000</td>\n",
       "      <td>NaN</td>\n",
       "      <td>No</td>\n",
       "      <td>No</td>\n",
       "      <td>NaN</td>\n",
       "      <td>Queens, NY 11367\\n(40.729914, -73.824338)</td>\n",
       "    </tr>\n",
       "    <tr>\n",
       "      <th>17</th>\n",
       "      <td>12/31/2019</td>\n",
       "      <td>212189</td>\n",
       "      <td>Queens</td>\n",
       "      <td>Queens</td>\n",
       "      <td>NY</td>\n",
       "      <td>11429</td>\n",
       "      <td>Residential</td>\n",
       "      <td>Residential/Small Commercial</td>\n",
       "      <td>PON 2112</td>\n",
       "      <td>Consolidated Edison</td>\n",
       "      <td>Lease</td>\n",
       "      <td>09/13/2019</td>\n",
       "      <td>NaN</td>\n",
       "      <td>Pipeline</td>\n",
       "      <td>NaN</td>\n",
       "      <td>SunPower</td>\n",
       "      <td>SPR-E20-327-E-AC [240V]</td>\n",
       "      <td>14.00000</td>\n",
       "      <td>Sunpower</td>\n",
       "      <td>SPR-E20-327-E-AC</td>\n",
       "      <td>14.00000</td>\n",
       "      <td>34019.64000</td>\n",
       "      <td>1373.00000</td>\n",
       "      <td>4.58000</td>\n",
       "      <td>5374.00000</td>\n",
       "      <td>NaN</td>\n",
       "      <td>No</td>\n",
       "      <td>No</td>\n",
       "      <td>NaN</td>\n",
       "      <td>Queens, NY 11429\\n(40.70975, -73.73906)</td>\n",
       "    </tr>\n",
       "  </tbody>\n",
       "</table>\n",
       "</div>"
      ],
      "text/plain": [
       "   Reporting Period Project Number      City  County State  Zip Code       Sector                  Program Type Solicitation     Electric Utility Purchase Type Date Application Received Date Completed Project Status            Contractor Primary Inverter Manufacturer Primary Inverter Model Number  Total Inverter Quantity Primary PV Module Manufacturer PV Module Model Number  Total PV Module Quantity  Project Cost  $Incentive  Total Nameplate kW DC  Expected KWh Annual Production Remote Net Metering Affordable Solar Community Distributed Generation Green Jobs Green New York Participant                                   Location 1\n",
       "10       12/31/2019          81880     Bronx   Bronx    NY     10461  Residential  Residential/Small Commercial     PON 2112  Consolidated Edison         Lease                04/13/2017     02/22/2018       Complete           SunRun Inc.                           ABB    PVI-3.6-OUTD-S-US-A (240V)                  1.00000                 LG Electronics            LG310N1C-G4                  15.00000   15911.00000  1860.00000                4.65000                      5458.00000                 NaN               No                               No                                   NaN     Bronx, NY 10461\\n(40.846823, -73.840311)\n",
       "11       12/31/2019          91240  Brooklyn   Kings    NY     11203  Residential  Residential/Small Commercial     PON 2112  Consolidated Edison         Lease                06/15/2017     09/28/2017       Complete  SunPower Capital LLC                      SunPower              SPR-X21-345-C-AC                 16.00000                       SunPower       SPR-X21-345-C-AC                  16.00000   22687.20000  1656.00000                5.52000                      6480.00000                 NaN               No                               No                                   NaN  Brooklyn, NY 11203\\n(40.649707, -73.933487)\n",
       "15       12/31/2019         179557     Bronx   Bronx    NY     10466  Residential  Residential/Small Commercial     PON 2112  Consolidated Edison         Lease                03/21/2019            NaN       Pipeline                   NaN                      SunPower       SPR-E20-327-D-AC [240V]                 26.00000                       Sunpower       SPR-E20-327-D-AC                  26.00000   44981.41000  2551.00000                8.50000                      9980.00000                 NaN               No                               No                                   NaN     Bronx, NY 10466\\n(40.891057, -73.846822)\n",
       "16       12/31/2019         207583    Queens  Queens    NY     11367  Residential  Residential/Small Commercial     PON 2112  Consolidated Edison      Purchase                08/14/2019            NaN       Pipeline                   NaN                      SunPower       SPR-X22-370-E-AC [240V]                 19.00000                       Sunpower       SPR-X22-370-E-AC                  19.00000   31474.00000  2109.00000                7.03000                      8252.00000                 NaN               No                               No                                   NaN    Queens, NY 11367\\n(40.729914, -73.824338)\n",
       "17       12/31/2019         212189    Queens  Queens    NY     11429  Residential  Residential/Small Commercial     PON 2112  Consolidated Edison         Lease                09/13/2019            NaN       Pipeline                   NaN                      SunPower       SPR-E20-327-E-AC [240V]                 14.00000                       Sunpower       SPR-E20-327-E-AC                  14.00000   34019.64000  1373.00000                4.58000                      5374.00000                 NaN               No                               No                                   NaN      Queens, NY 11429\\n(40.70975, -73.73906)"
      ]
     },
     "execution_count": 24,
     "metadata": {},
     "output_type": "execute_result"
    }
   ],
   "source": [
    "nyc_data.head()"
   ]
  },
  {
   "cell_type": "code",
   "execution_count": 30,
   "metadata": {},
   "outputs": [
    {
     "data": {
      "text/plain": [
       "01/18/2018    89\n",
       "10/13/2017    89\n",
       "04/20/2017    81\n",
       "03/16/2018    70\n",
       "03/05/2018    66\n",
       "              ..\n",
       "09/16/2013     1\n",
       "03/12/2014     1\n",
       "05/30/2012     1\n",
       "02/13/2014     1\n",
       "12/03/2012     1\n",
       "Name: Date Completed, Length: 1816, dtype: int64"
      ]
     },
     "execution_count": 30,
     "metadata": {},
     "output_type": "execute_result"
    }
   ],
   "source": [
    "nyc_data[\"Date Completed\"].value_counts()"
   ]
  },
  {
   "cell_type": "code",
   "execution_count": 50,
   "metadata": {},
   "outputs": [
    {
     "name": "stderr",
     "output_type": "stream",
     "text": [
      "/Users/genevieve/anaconda3/envs/opendataweek/lib/python3.7/site-packages/ipykernel_launcher.py:1: SettingWithCopyWarning: \n",
      "A value is trying to be set on a copy of a slice from a DataFrame.\n",
      "Try using .loc[row_indexer,col_indexer] = value instead\n",
      "\n",
      "See the caveats in the documentation: http://pandas.pydata.org/pandas-docs/stable/user_guide/indexing.html#returning-a-view-versus-a-copy\n",
      "  \"\"\"Entry point for launching an IPython kernel.\n",
      "/Users/genevieve/anaconda3/envs/opendataweek/lib/python3.7/site-packages/ipykernel_launcher.py:2: SettingWithCopyWarning: \n",
      "A value is trying to be set on a copy of a slice from a DataFrame.\n",
      "Try using .loc[row_indexer,col_indexer] = value instead\n",
      "\n",
      "See the caveats in the documentation: http://pandas.pydata.org/pandas-docs/stable/user_guide/indexing.html#returning-a-view-versus-a-copy\n",
      "  \n"
     ]
    }
   ],
   "source": [
    "nyc_data[\"Date Completed datetime\"] = pd.to_datetime(nyc_data['Date Completed'])\n",
    "nyc_data[\"Date Application Received datetime\"] = pd.to_datetime(nyc_data['Date Application Received'])"
   ]
  },
  {
   "cell_type": "code",
   "execution_count": 51,
   "metadata": {},
   "outputs": [
    {
     "name": "stdout",
     "output_type": "stream",
     "text": [
      "<class 'pandas.core.frame.DataFrame'>\n",
      "Int64Index: 24285 entries, 10 to 103762\n",
      "Data columns (total 34 columns):\n",
      "Reporting Period                         24285 non-null object\n",
      "Project Number                           24285 non-null object\n",
      "City                                     24285 non-null object\n",
      "County                                   24285 non-null object\n",
      "State                                    24285 non-null object\n",
      "Zip Code                                 24285 non-null int64\n",
      "Sector                                   24285 non-null object\n",
      "Program Type                             24285 non-null object\n",
      "Solicitation                             24285 non-null object\n",
      "Electric Utility                         24285 non-null object\n",
      "Purchase Type                            23658 non-null object\n",
      "Date Application Received                24285 non-null object\n",
      "Date Completed                           22191 non-null object\n",
      "Project Status                           24285 non-null object\n",
      "Contractor                               22249 non-null object\n",
      "Primary Inverter Manufacturer            24225 non-null object\n",
      "Primary Inverter Model Number            24170 non-null object\n",
      "Total Inverter Quantity                  24171 non-null float64\n",
      "Primary PV Module Manufacturer           24221 non-null object\n",
      "PV Module Model Number                   24168 non-null object\n",
      "Total PV Module Quantity                 24173 non-null float64\n",
      "Project Cost                             24281 non-null float64\n",
      "$Incentive                               24259 non-null float64\n",
      "Total Nameplate kW DC                    24285 non-null float64\n",
      "Expected KWh Annual Production           24285 non-null float64\n",
      "Remote Net Metering                      6805 non-null object\n",
      "Affordable Solar                         24285 non-null object\n",
      "Community Distributed Generation         24285 non-null object\n",
      "Green Jobs Green New York Participant    462 non-null object\n",
      "Location 1                               24284 non-null object\n",
      "Date Completed datetime                  22191 non-null datetime64[ns]\n",
      "Year Completed                           22191 non-null float64\n",
      "Month Completed                          22191 non-null float64\n",
      "Date Application Received datetime       24285 non-null datetime64[ns]\n",
      "dtypes: datetime64[ns](2), float64(8), int64(1), object(23)\n",
      "memory usage: 6.5+ MB\n"
     ]
    }
   ],
   "source": [
    "nyc_data.info()"
   ]
  },
  {
   "cell_type": "code",
   "execution_count": 56,
   "metadata": {},
   "outputs": [
    {
     "name": "stderr",
     "output_type": "stream",
     "text": [
      "/Users/genevieve/anaconda3/envs/opendataweek/lib/python3.7/site-packages/ipykernel_launcher.py:2: SettingWithCopyWarning: \n",
      "A value is trying to be set on a copy of a slice from a DataFrame.\n",
      "Try using .loc[row_indexer,col_indexer] = value instead\n",
      "\n",
      "See the caveats in the documentation: http://pandas.pydata.org/pandas-docs/stable/user_guide/indexing.html#returning-a-view-versus-a-copy\n",
      "  \n",
      "/Users/genevieve/anaconda3/envs/opendataweek/lib/python3.7/site-packages/ipykernel_launcher.py:3: SettingWithCopyWarning: \n",
      "A value is trying to be set on a copy of a slice from a DataFrame.\n",
      "Try using .loc[row_indexer,col_indexer] = value instead\n",
      "\n",
      "See the caveats in the documentation: http://pandas.pydata.org/pandas-docs/stable/user_guide/indexing.html#returning-a-view-versus-a-copy\n",
      "  This is separate from the ipykernel package so we can avoid doing imports until\n",
      "/Users/genevieve/anaconda3/envs/opendataweek/lib/python3.7/site-packages/ipykernel_launcher.py:4: SettingWithCopyWarning: \n",
      "A value is trying to be set on a copy of a slice from a DataFrame.\n",
      "Try using .loc[row_indexer,col_indexer] = value instead\n",
      "\n",
      "See the caveats in the documentation: http://pandas.pydata.org/pandas-docs/stable/user_guide/indexing.html#returning-a-view-versus-a-copy\n",
      "  after removing the cwd from sys.path.\n",
      "/Users/genevieve/anaconda3/envs/opendataweek/lib/python3.7/site-packages/ipykernel_launcher.py:5: SettingWithCopyWarning: \n",
      "A value is trying to be set on a copy of a slice from a DataFrame.\n",
      "Try using .loc[row_indexer,col_indexer] = value instead\n",
      "\n",
      "See the caveats in the documentation: http://pandas.pydata.org/pandas-docs/stable/user_guide/indexing.html#returning-a-view-versus-a-copy\n",
      "  \"\"\"\n"
     ]
    }
   ],
   "source": [
    "# nyc_data[\"Date Completed datetime\"].value_counts()\n",
    "nyc_data['Year Completed'] = pd.DatetimeIndex(nyc_data['Date Completed datetime']).year\n",
    "nyc_data['Month Completed'] = pd.DatetimeIndex(nyc_data['Date Completed datetime']).month\n",
    "nyc_data['Year Applied'] = pd.DatetimeIndex(nyc_data['Date Application Received datetime']).year.astype(int)\n",
    "nyc_data['Month Applied'] = pd.DatetimeIndex(nyc_data['Date Application Received datetime']).month"
   ]
  },
  {
   "cell_type": "code",
   "execution_count": 58,
   "metadata": {},
   "outputs": [
    {
     "data": {
      "text/plain": [
       "dtype('int64')"
      ]
     },
     "execution_count": 58,
     "metadata": {},
     "output_type": "execute_result"
    }
   ],
   "source": [
    "nyc_data[\"Year Applied\"].dtype"
   ]
  },
  {
   "cell_type": "code",
   "execution_count": 59,
   "metadata": {},
   "outputs": [
    {
     "data": {
      "text/plain": [
       "2019    5644\n",
       "2018    4823\n",
       "2017    4320\n",
       "2016    3537\n",
       "2015    2106\n",
       "2014    1879\n",
       "2013    1131\n",
       "2012     232\n",
       "2011     180\n",
       "2010     177\n",
       "2009      93\n",
       "2008      69\n",
       "2007      29\n",
       "2006      25\n",
       "2005      15\n",
       "2004      12\n",
       "2003      11\n",
       "2002       2\n",
       "Name: Year Applied, dtype: int64"
      ]
     },
     "execution_count": 59,
     "metadata": {},
     "output_type": "execute_result"
    }
   ],
   "source": [
    "nyc_data[\"Year Applied\"].value_counts()"
   ]
  },
  {
   "cell_type": "code",
   "execution_count": 61,
   "metadata": {},
   "outputs": [
    {
     "data": {
      "image/png": "[encoded data removed]",
      "text/plain": [
       "<Figure size 432x288 with 1 Axes>"
      ]
     },
     "metadata": {
      "needs_background": "light"
     },
     "output_type": "display_data"
    }
   ],
   "source": [
    "plt.plot(nyc_data[\"Year Applied\"].value_counts())\n",
    "plt.ylabel('Number of Solar Project Applications')\n",
    "# plt.xticks(range(2002,2020))\n",
    "plt.show()"
   ]
  },
  {
   "cell_type": "code",
   "execution_count": 62,
   "metadata": {},
   "outputs": [],
   "source": [
    "est_power_by_county = nyc_data.groupby('County', as_index=False)['Expected KWh Annual Production'].sum()"
   ]
  },
  {
   "cell_type": "code",
   "execution_count": 89,
   "metadata": {},
   "outputs": [
    {
     "data": {
      "text/html": [
       "<div>\n",
       "<style scoped>\n",
       "    .dataframe tbody tr th:only-of-type {\n",
       "        vertical-align: middle;\n",
       "    }\n",
       "\n",
       "    .dataframe tbody tr th {\n",
       "        vertical-align: top;\n",
       "    }\n",
       "\n",
       "    .dataframe thead th {\n",
       "        text-align: right;\n",
       "    }\n",
       "</style>\n",
       "<table border=\"1\" class=\"dataframe\">\n",
       "  <thead>\n",
       "    <tr style=\"text-align: right;\">\n",
       "      <th></th>\n",
       "      <th>County</th>\n",
       "      <th>Expected KWh Annual Production</th>\n",
       "    </tr>\n",
       "  </thead>\n",
       "  <tbody>\n",
       "    <tr>\n",
       "      <th>0</th>\n",
       "      <td>Bronx</td>\n",
       "      <td>42408332.00000</td>\n",
       "    </tr>\n",
       "    <tr>\n",
       "      <th>1</th>\n",
       "      <td>Kings</td>\n",
       "      <td>55729587.00000</td>\n",
       "    </tr>\n",
       "    <tr>\n",
       "      <th>2</th>\n",
       "      <td>New York</td>\n",
       "      <td>49097937.00000</td>\n",
       "    </tr>\n",
       "    <tr>\n",
       "      <th>3</th>\n",
       "      <td>Queens</td>\n",
       "      <td>109465504.00000</td>\n",
       "    </tr>\n",
       "    <tr>\n",
       "      <th>4</th>\n",
       "      <td>Richmond</td>\n",
       "      <td>90298594.00000</td>\n",
       "    </tr>\n",
       "  </tbody>\n",
       "</table>\n",
       "</div>"
      ],
      "text/plain": [
       "     County  Expected KWh Annual Production\n",
       "0     Bronx                  42408332.00000\n",
       "1     Kings                  55729587.00000\n",
       "2  New York                  49097937.00000\n",
       "3    Queens                 109465504.00000\n",
       "4  Richmond                  90298594.00000"
      ]
     },
     "execution_count": 89,
     "metadata": {},
     "output_type": "execute_result"
    }
   ],
   "source": [
    "est_power_by_county"
   ]
  },
  {
   "cell_type": "code",
   "execution_count": 95,
   "metadata": {},
   "outputs": [
    {
     "data": {
      "image/png": "[encoded data removed]",
      "text/plain": [
       "<Figure size 432x288 with 1 Axes>"
      ]
     },
     "metadata": {
      "needs_background": "light"
     },
     "output_type": "display_data"
    }
   ],
   "source": [
    "# est_power_by_county\n",
    "counties = ['Bronx', 'Kings', 'New York', 'Queens', 'Richmond']\n",
    "values = est_power_by_county['Expected KWh Annual Production']\n",
    "\n",
    "# fig, axs = plt.subplots(1, 1)\n",
    "plt.bar(counties, values)\n",
    "plt.ylabel('Expected KWh Annual Production of Solar Installations')\n",
    "plt.xticks(counties)\n",
    "plt.ticklabel_format(style='plain', axis='y')\n",
    "plt.show()"
   ]
  },
  {
   "cell_type": "code",
   "execution_count": 102,
   "metadata": {},
   "outputs": [
    {
     "data": {
      "text/plain": [
       "<matplotlib.axes._subplots.AxesSubplot at 0x12dd82a10>"
      ]
     },
     "execution_count": 102,
     "metadata": {},
     "output_type": "execute_result"
    },
    {
     "data": {
      "image/png": "[encoded data removed]",
      "text/plain": [
       "<Figure size 432x288 with 1 Axes>"
      ]
     },
     "metadata": {
      "needs_background": "light"
     },
     "output_type": "display_data"
    }
   ],
   "source": [
    "# plt.bar(counties, nyc_data[\"County\"].value_counts())\n",
    "nyc_data[\"County\"].value_counts().plot(kind='bar')"
   ]
  },
  {
   "cell_type": "code",
   "execution_count": 98,
   "metadata": {},
   "outputs": [],
   "source": [
    "pv_modules_by_county = nyc_data.groupby('County', as_index=False)['Total PV Module Quantity'].sum()"
   ]
  },
  {
   "cell_type": "code",
   "execution_count": 104,
   "metadata": {},
   "outputs": [
    {
     "data": {
      "text/html": [
       "<div>\n",
       "<style scoped>\n",
       "    .dataframe tbody tr th:only-of-type {\n",
       "        vertical-align: middle;\n",
       "    }\n",
       "\n",
       "    .dataframe tbody tr th {\n",
       "        vertical-align: top;\n",
       "    }\n",
       "\n",
       "    .dataframe thead th {\n",
       "        text-align: right;\n",
       "    }\n",
       "</style>\n",
       "<table border=\"1\" class=\"dataframe\">\n",
       "  <thead>\n",
       "    <tr style=\"text-align: right;\">\n",
       "      <th></th>\n",
       "      <th>County</th>\n",
       "      <th>Total PV Module Quantity</th>\n",
       "    </tr>\n",
       "  </thead>\n",
       "  <tbody>\n",
       "    <tr>\n",
       "      <th>0</th>\n",
       "      <td>Bronx</td>\n",
       "      <td>97088.00000</td>\n",
       "    </tr>\n",
       "    <tr>\n",
       "      <th>1</th>\n",
       "      <td>Kings</td>\n",
       "      <td>129954.00000</td>\n",
       "    </tr>\n",
       "    <tr>\n",
       "      <th>2</th>\n",
       "      <td>New York</td>\n",
       "      <td>119263.00000</td>\n",
       "    </tr>\n",
       "    <tr>\n",
       "      <th>3</th>\n",
       "      <td>Queens</td>\n",
       "      <td>271047.00000</td>\n",
       "    </tr>\n",
       "    <tr>\n",
       "      <th>4</th>\n",
       "      <td>Richmond</td>\n",
       "      <td>214671.00000</td>\n",
       "    </tr>\n",
       "  </tbody>\n",
       "</table>\n",
       "</div>"
      ],
      "text/plain": [
       "     County  Total PV Module Quantity\n",
       "0     Bronx               97088.00000\n",
       "1     Kings              129954.00000\n",
       "2  New York              119263.00000\n",
       "3    Queens              271047.00000\n",
       "4  Richmond              214671.00000"
      ]
     },
     "execution_count": 104,
     "metadata": {},
     "output_type": "execute_result"
    }
   ],
   "source": [
    "pv_modules_by_county"
   ]
  },
  {
   "cell_type": "code",
   "execution_count": null,
   "metadata": {},
   "outputs": [],
   "source": []
  }
 ],
 "metadata": {
  "kernelspec": {
   "display_name": "Python 3",
   "language": "python",
   "name": "python3"
  },
  "language_info": {
   "codemirror_mode": {
    "name": "ipython",
    "version": 3
   },
   "file_extension": ".py",
   "mimetype": "text/x-python",
   "name": "python",
   "nbconvert_exporter": "python",
   "pygments_lexer": "ipython3",
   "version": "3.7.4"
  }
 },
 "nbformat": 4,
 "nbformat_minor": 2
}
